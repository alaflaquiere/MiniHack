{
 "cells": [
  {
   "cell_type": "code",
   "execution_count": 1,
   "metadata": {},
   "outputs": [],
   "source": [
    "# this is copied from tile.c and made a Python list\n",
    "from nle.tiles import GlyphMapper\n",
    "gm = GlyphMapper()"
   ]
  },
  {
   "cell_type": "code",
   "execution_count": 2,
   "metadata": {},
   "outputs": [
    {
     "data": {
      "image/png": "[encoded data removed]",
      "text/plain": [
       "<PIL.Image.Image image mode=RGB size=16x16 at 0x7F9688BB5280>"
      ]
     },
     "metadata": {},
     "output_type": "display_data"
    },
    {
     "data": {
      "image/png": "[encoded data removed]",
      "text/plain": [
       "<PIL.Image.Image image mode=RGB size=16x16 at 0x7F9688BB5340>"
      ]
     },
     "metadata": {},
     "output_type": "display_data"
    }
   ],
   "source": [
    "import IPython.display\n",
    "import PIL.Image\n",
    "\n",
    "def display(x):\n",
    "    IPython.display.display(PIL.Image.fromarray(x))\n",
    "    \n",
    "display(gm.glyph_id_to_rgb(270)) # oracle\n",
    "display(gm.glyph_id_to_rgb(1)) # killer bee "
   ]
  },
  {
   "cell_type": "code",
   "execution_count": 39,
   "metadata": {},
   "outputs": [],
   "source": [
    "# More reliable test\n",
    "# Creating custom MiniHack task with many objects\n",
    "\n",
    "from nle.minihack import MiniHackSkill, LevelGenerator\n",
    "\n",
    "class MiniHackGUITest(MiniHackSkill):\n",
    "    \"\"\"Environment for \"eat\" task.\"\"\"\n",
    "\n",
    "    def __init__(self, *args, obs_crop_h=5, obs_crop_w=5, **kwargs):\n",
    "        lvl_gen = LevelGenerator(w=5, h=5, lit=True)\n",
    "        lvl_gen.add_stair_up((2, 2))\n",
    "\n",
    "        lvl_gen.add_object(\"apple\", \"%\", place=(0, 0))\n",
    "        lvl_gen.add_object(\"pear\", \"%\", place=(0, 1))\n",
    "        lvl_gen.add_object(\"dagger\", \")\", place=(0, 2))\n",
    "        lvl_gen.add_object(\"robe\", \"[\", place=(0, 3))\n",
    "        lvl_gen.add_object(\"boulder\", \"`\", place=(0, 4))\n",
    "\n",
    "        lvl_gen.add_terrain((1, 0), \"W\")  # water\n",
    "        lvl_gen.add_terrain((1, 1), \"L\")  # lava\n",
    "        lvl_gen.add_terrain((1, 2), \"T\")  # tree\n",
    "        lvl_gen.add_terrain((1, 3), \"{\")  # fountain\n",
    "        lvl_gen.add_terrain((1, 4), \"F\")  # iron bars\n",
    "\n",
    "        lvl_gen.add_terrain((4, 0), \"|\")\n",
    "        lvl_gen.add_terrain((4, 1), \"|\")\n",
    "        lvl_gen.add_terrain((4, 2), \"|\")\n",
    "        lvl_gen.add_terrain((4, 3), \"|\")\n",
    "        lvl_gen.add_terrain((4, 4), \"|\")\n",
    "        lvl_gen.add_door(\"open\", place=(4, 1))\n",
    "        lvl_gen.add_door(\"closed\", place=(4, 3))\n",
    "\n",
    "        lvl_gen.add_monster(\"killer bee\", place=(3, 0))\n",
    "        lvl_gen.add_monster(\"oracle\", place=(3, 1))\n",
    "        lvl_gen.add_monster(\"famine\", place=(3, 2))\n",
    "        lvl_gen.add_monster(\"giant ant\", place=(3, 3))\n",
    "        lvl_gen.add_monster(\"black dragon\", place=(3, 4))\n",
    "\n",
    "        des_file = lvl_gen.get_des()\n",
    "        print(des_file)\n",
    "\n",
    "        kwargs[\"observation_keys\"] = (\n",
    "            \"glyphs_crop\",\n",
    "            \"screen_descriptions_crop\",\n",
    "            \"pixel_crop\",\n",
    "            \"pixel\",\n",
    "        )\n",
    "\n",
    "        super().__init__(*args, des_file=des_file, **kwargs)\n"
   ]
  },
  {
   "cell_type": "code",
   "execution_count": 40,
   "metadata": {},
   "outputs": [
    {
     "name": "stdout",
     "output_type": "stream",
     "text": [
      "\n",
      "MAZE: \"mylevel\", ' '\n",
      "FLAGS:hardfloor\n",
      "MESSAGE: \"Welcome to MiniHack!\"\n",
      "INIT_MAP: solidfill,' '\n",
      "GEOMETRY:center,center\n",
      "MAP\n",
      ".W..|\n",
      ".L..|\n",
      ".T..|\n",
      ".{..|\n",
      ".F..|\n",
      "ENDMAP\n",
      "REGION:(0,0,5,5),lit,\"ordinary\"\n",
      "BRANCH:(2,2,2,2),(1,1,1,1)\n",
      "OBJECT:('%',\"apple\"),(0, 0)\n",
      "OBJECT:('%',\"pear\"),(0, 1)\n",
      "OBJECT:(')',\"dagger\"),(0, 2)\n",
      "OBJECT:('[',\"robe\"),(0, 3)\n",
      "OBJECT:('`',\"boulder\"),(0, 4)\n",
      "DOOR:open,(4, 1)\n",
      "DOOR:closed,(4, 3)\n",
      "MONSTER:\"killer bee\",(3, 0)\n",
      "MONSTER:\"oracle\",(3, 1)\n",
      "MONSTER:\"famine\",(3, 2)\n",
      "MONSTER:\"giant ant\",(3, 3)\n",
      "MONSTER:\"black dragon\",(3, 4)\n",
      "\n",
      "\u001b[37mH\u001b[37me\u001b[37ml\u001b[37ml\u001b[37mo\u001b[30m \u001b[37mA\u001b[37mg\u001b[37me\u001b[37mn\u001b[37mt\u001b[37m,\u001b[30m \u001b[37mw\u001b[37me\u001b[37ml\u001b[37mc\u001b[37mo\u001b[37mm\u001b[37me\u001b[30m \u001b[37mt\u001b[37mo\u001b[30m \u001b[37mN\u001b[37me\u001b[37mt\u001b[37mH\u001b[37ma\u001b[37mc\u001b[37mk\u001b[37m!\u001b[30m \u001b[30m \u001b[37mY\u001b[37mo\u001b[37mu\u001b[30m \u001b[37ma\u001b[37mr\u001b[37me\u001b[30m \u001b[37ma\u001b[30m \u001b[37mn\u001b[37me\u001b[37mu\u001b[37mt\u001b[37mr\u001b[37ma\u001b[37ml\u001b[30m \u001b[37mh\u001b[37mu\u001b[37mm\u001b[37ma\u001b[37mn\u001b[30m \u001b[37mC\u001b[37ma\u001b[37mv\u001b[37me\u001b[37mm\u001b[37ma\u001b[37mn\u001b[37m.\u001b[30m \u001b[30m \u001b[30m \u001b[30m \u001b[30m \u001b[30m \u001b[30m \u001b[30m \u001b[30m \u001b[30m \u001b[30m \u001b[30m \u001b[30m \u001b[30m \n",
      "\u001b[30m \u001b[30m \u001b[30m \u001b[30m \u001b[30m \u001b[30m \u001b[30m \u001b[30m \u001b[30m \u001b[30m \u001b[30m \u001b[30m \u001b[30m \u001b[30m \u001b[30m \u001b[30m \u001b[30m \u001b[30m \u001b[30m \u001b[30m \u001b[30m \u001b[30m \u001b[30m \u001b[30m \u001b[30m \u001b[30m \u001b[30m \u001b[30m \u001b[30m \u001b[30m \u001b[30m \u001b[30m \u001b[30m \u001b[30m \u001b[30m \u001b[30m \u001b[30m \u001b[30m \u001b[30m \u001b[30m \u001b[30m \u001b[30m \u001b[30m \u001b[30m \u001b[30m \u001b[30m \u001b[30m \u001b[30m \u001b[30m \u001b[30m \u001b[30m \u001b[30m \u001b[30m \u001b[30m \u001b[30m \u001b[30m \u001b[30m \u001b[30m \u001b[30m \u001b[30m \u001b[30m \u001b[30m \u001b[30m \u001b[30m \u001b[30m \u001b[30m \u001b[30m \u001b[30m \u001b[30m \u001b[30m \u001b[30m \u001b[30m \u001b[30m \u001b[30m \u001b[30m \u001b[30m \u001b[30m \u001b[30m \u001b[30m \u001b[30m \n",
      "\u001b[30m \u001b[30m \u001b[30m \u001b[30m \u001b[30m \u001b[30m \u001b[30m \u001b[30m \u001b[30m \u001b[30m \u001b[30m \u001b[30m \u001b[30m \u001b[30m \u001b[30m \u001b[30m \u001b[30m \u001b[30m \u001b[30m \u001b[30m \u001b[30m \u001b[30m \u001b[30m \u001b[30m \u001b[30m \u001b[30m \u001b[30m \u001b[30m \u001b[30m \u001b[30m \u001b[30m \u001b[30m \u001b[30m \u001b[30m \u001b[30m \u001b[30m \u001b[30m \u001b[30m \u001b[30m \u001b[30m \u001b[30m \u001b[30m \u001b[30m \u001b[30m \u001b[30m \u001b[30m \u001b[30m \u001b[30m \u001b[30m \u001b[30m \u001b[30m \u001b[30m \u001b[30m \u001b[30m \u001b[30m \u001b[30m \u001b[30m \u001b[30m \u001b[30m \u001b[30m \u001b[30m \u001b[30m \u001b[30m \u001b[30m \u001b[30m \u001b[30m \u001b[30m \u001b[30m \u001b[30m \u001b[30m \u001b[30m \u001b[30m \u001b[30m \u001b[30m \u001b[30m \u001b[30m \u001b[30m \u001b[30m \u001b[30m \u001b[30m \n",
      "\u001b[30m \u001b[30m \u001b[30m \u001b[30m \u001b[30m \u001b[30m \u001b[30m \u001b[30m \u001b[30m \u001b[30m \u001b[30m \u001b[30m \u001b[30m \u001b[30m \u001b[30m \u001b[30m \u001b[30m \u001b[30m \u001b[30m \u001b[30m \u001b[30m \u001b[30m \u001b[30m \u001b[30m \u001b[30m \u001b[30m \u001b[30m \u001b[30m \u001b[30m \u001b[30m \u001b[30m \u001b[30m \u001b[30m \u001b[30m \u001b[30m \u001b[30m \u001b[30m \u001b[30m \u001b[30m \u001b[30m \u001b[30m \u001b[30m \u001b[30m \u001b[30m \u001b[30m \u001b[30m \u001b[30m \u001b[30m \u001b[30m \u001b[30m \u001b[30m \u001b[30m \u001b[30m \u001b[30m \u001b[30m \u001b[30m \u001b[30m \u001b[30m \u001b[30m \u001b[30m \u001b[30m \u001b[30m \u001b[30m \u001b[30m \u001b[30m \u001b[30m \u001b[30m \u001b[30m \u001b[30m \u001b[30m \u001b[30m \u001b[30m \u001b[30m \u001b[30m \u001b[30m \u001b[30m \u001b[30m \u001b[30m \u001b[30m \u001b[30m \n",
      "\u001b[30m \u001b[30m \u001b[30m \u001b[30m \u001b[30m \u001b[30m \u001b[30m \u001b[30m \u001b[30m \u001b[30m \u001b[30m \u001b[30m \u001b[30m \u001b[30m \u001b[30m \u001b[30m \u001b[30m \u001b[30m \u001b[30m \u001b[30m \u001b[30m \u001b[30m \u001b[30m \u001b[30m \u001b[30m \u001b[30m \u001b[30m \u001b[30m \u001b[30m \u001b[30m \u001b[30m \u001b[30m \u001b[30m \u001b[30m \u001b[30m \u001b[30m \u001b[30m \u001b[30m \u001b[30m \u001b[30m \u001b[30m \u001b[30m \u001b[30m \u001b[30m \u001b[30m \u001b[30m \u001b[30m \u001b[30m \u001b[30m \u001b[30m \u001b[30m \u001b[30m \u001b[30m \u001b[30m \u001b[30m \u001b[30m \u001b[30m \u001b[30m \u001b[30m \u001b[30m \u001b[30m \u001b[30m \u001b[30m \u001b[30m \u001b[30m \u001b[30m \u001b[30m \u001b[30m \u001b[30m \u001b[30m \u001b[30m \u001b[30m \u001b[30m \u001b[30m \u001b[30m \u001b[30m \u001b[30m \u001b[30m \u001b[30m \u001b[30m \n",
      "\u001b[30m \u001b[30m \u001b[30m \u001b[30m \u001b[30m \u001b[30m \u001b[30m \u001b[30m \u001b[30m \u001b[30m \u001b[30m \u001b[30m \u001b[30m \u001b[30m \u001b[30m \u001b[30m \u001b[30m \u001b[30m \u001b[30m \u001b[30m \u001b[30m \u001b[30m \u001b[30m \u001b[30m \u001b[30m \u001b[30m \u001b[30m \u001b[30m \u001b[30m \u001b[30m \u001b[30m \u001b[30m \u001b[30m \u001b[30m \u001b[30m \u001b[30m \u001b[30m \u001b[30m \u001b[30m \u001b[30m \u001b[30m \u001b[30m \u001b[30m \u001b[30m \u001b[30m \u001b[30m \u001b[30m \u001b[30m \u001b[30m \u001b[30m \u001b[30m \u001b[30m \u001b[30m \u001b[30m \u001b[30m \u001b[30m \u001b[30m \u001b[30m \u001b[30m \u001b[30m \u001b[30m \u001b[30m \u001b[30m \u001b[30m \u001b[30m \u001b[30m \u001b[30m \u001b[30m \u001b[30m \u001b[30m \u001b[30m \u001b[30m \u001b[30m \u001b[30m \u001b[30m \u001b[30m \u001b[30m \u001b[30m \u001b[30m \u001b[30m \n",
      "\u001b[30m \u001b[30m \u001b[30m \u001b[30m \u001b[30m \u001b[30m \u001b[30m \u001b[30m \u001b[30m \u001b[30m \u001b[30m \u001b[30m \u001b[30m \u001b[30m \u001b[30m \u001b[30m \u001b[30m \u001b[30m \u001b[30m \u001b[30m \u001b[30m \u001b[30m \u001b[30m \u001b[30m \u001b[30m \u001b[30m \u001b[30m \u001b[30m \u001b[30m \u001b[30m \u001b[30m \u001b[30m \u001b[30m \u001b[30m \u001b[30m \u001b[30m \u001b[30m \u001b[30m \u001b[30m \u001b[30m \u001b[30m \u001b[30m \u001b[30m \u001b[30m \u001b[30m \u001b[30m \u001b[30m \u001b[30m \u001b[30m \u001b[30m \u001b[30m \u001b[30m \u001b[30m \u001b[30m \u001b[30m \u001b[30m \u001b[30m \u001b[30m \u001b[30m \u001b[30m \u001b[30m \u001b[30m \u001b[30m \u001b[30m \u001b[30m \u001b[30m \u001b[30m \u001b[30m \u001b[30m \u001b[30m \u001b[30m \u001b[30m \u001b[30m \u001b[30m \u001b[30m \u001b[30m \u001b[30m \u001b[30m \u001b[30m \u001b[30m \n",
      "\u001b[30m \u001b[30m \u001b[30m \u001b[30m \u001b[30m \u001b[30m \u001b[30m \u001b[30m \u001b[30m \u001b[30m \u001b[30m \u001b[30m \u001b[30m \u001b[30m \u001b[30m \u001b[30m \u001b[30m \u001b[30m \u001b[30m \u001b[30m \u001b[30m \u001b[30m \u001b[30m \u001b[30m \u001b[30m \u001b[30m \u001b[30m \u001b[30m \u001b[30m \u001b[30m \u001b[30m \u001b[30m \u001b[30m \u001b[30m \u001b[30m \u001b[30m \u001b[30m \u001b[30m \u001b[30m \u001b[30m \u001b[30m \u001b[30m \u001b[30m \u001b[30m \u001b[30m \u001b[30m \u001b[30m \u001b[30m \u001b[30m \u001b[30m \u001b[30m \u001b[30m \u001b[30m \u001b[30m \u001b[30m \u001b[30m \u001b[30m \u001b[30m \u001b[30m \u001b[30m \u001b[30m \u001b[30m \u001b[30m \u001b[30m \u001b[30m \u001b[30m \u001b[30m \u001b[30m \u001b[30m \u001b[30m \u001b[30m \u001b[30m \u001b[30m \u001b[30m \u001b[30m \u001b[30m \u001b[30m \u001b[30m \u001b[30m \u001b[30m \n",
      "\u001b[30m \u001b[30m \u001b[30m \u001b[30m \u001b[30m \u001b[30m \u001b[30m \u001b[30m \u001b[30m \u001b[30m \u001b[30m \u001b[30m \u001b[30m \u001b[30m \u001b[30m \u001b[30m \u001b[30m \u001b[30m \u001b[30m \u001b[30m \u001b[30m \u001b[30m \u001b[30m \u001b[30m \u001b[30m \u001b[30m \u001b[30m \u001b[30m \u001b[30m \u001b[30m \u001b[30m \u001b[30m \u001b[30m \u001b[30m \u001b[30m \u001b[30m \u001b[30m \u001b[30m \u001b[30m \u001b[30m \u001b[30m \u001b[30m \u001b[30m \u001b[30m \u001b[30m \u001b[30m \u001b[30m \u001b[30m \u001b[30m \u001b[30m \u001b[30m \u001b[30m \u001b[30m \u001b[30m \u001b[30m \u001b[30m \u001b[30m \u001b[30m \u001b[30m \u001b[30m \u001b[30m \u001b[30m \u001b[30m \u001b[30m \u001b[30m \u001b[30m \u001b[30m \u001b[30m \u001b[30m \u001b[30m \u001b[30m \u001b[30m \u001b[30m \u001b[30m \u001b[30m \u001b[30m \u001b[30m \u001b[30m \u001b[30m \u001b[30m \n",
      "\u001b[30m \u001b[30m \u001b[30m \u001b[30m \u001b[30m \u001b[30m \u001b[30m \u001b[30m \u001b[30m \u001b[30m \u001b[30m \u001b[30m \u001b[30m \u001b[30m \u001b[30m \u001b[30m \u001b[30m \u001b[30m \u001b[30m \u001b[30m \u001b[30m \u001b[30m \u001b[30m \u001b[30m \u001b[30m \u001b[30m \u001b[30m \u001b[30m \u001b[30m \u001b[30m \u001b[30m \u001b[30m \u001b[30m \u001b[30m \u001b[30m \u001b[30m \u001b[30m \u001b[30m \u001b[30m \u001b[30m \u001b[30m \u001b[30m \u001b[30m \u001b[30m \u001b[30m \u001b[30m \u001b[30m \u001b[30m \u001b[30m \u001b[30m \u001b[30m \u001b[30m \u001b[30m \u001b[30m \u001b[30m \u001b[30m \u001b[30m \u001b[30m \u001b[30m \u001b[30m \u001b[30m \u001b[30m \u001b[30m \u001b[30m \u001b[30m \u001b[30m \u001b[30m \u001b[30m \u001b[30m \u001b[30m \u001b[30m \u001b[30m \u001b[30m \u001b[30m \u001b[30m \u001b[30m \u001b[30m \u001b[30m \u001b[30m \u001b[30m \n",
      "\u001b[30m \u001b[30m \u001b[30m \u001b[30m \u001b[30m \u001b[30m \u001b[30m \u001b[30m \u001b[30m \u001b[30m \u001b[30m \u001b[30m \u001b[30m \u001b[30m \u001b[30m \u001b[30m \u001b[30m \u001b[30m \u001b[30m \u001b[30m \u001b[30m \u001b[30m \u001b[30m \u001b[30m \u001b[30m \u001b[30m \u001b[30m \u001b[30m \u001b[30m \u001b[30m \u001b[30m \u001b[30m \u001b[30m \u001b[30m \u001b[30m \u001b[30m \u001b[31m%\u001b[34m}\u001b[37m.\u001b[93ma\u001b[37m|\u001b[30m \u001b[30m \u001b[30m \u001b[30m \u001b[30m \u001b[30m \u001b[30m \u001b[30m \u001b[30m \u001b[30m \u001b[30m \u001b[30m \u001b[30m \u001b[30m \u001b[30m \u001b[30m \u001b[30m \u001b[30m \u001b[30m \u001b[30m \u001b[30m \u001b[30m \u001b[30m \u001b[30m \u001b[30m \u001b[30m \u001b[30m \u001b[30m \u001b[30m \u001b[30m \u001b[30m \u001b[30m \u001b[30m \u001b[30m \u001b[30m \u001b[30m \u001b[30m \u001b[30m \u001b[30m \n",
      "\u001b[30m \u001b[30m \u001b[30m \u001b[30m \u001b[30m \u001b[30m \u001b[30m \u001b[30m \u001b[30m \u001b[30m \u001b[30m \u001b[30m \u001b[30m \u001b[30m \u001b[30m \u001b[30m \u001b[30m \u001b[30m \u001b[30m \u001b[30m \u001b[30m \u001b[30m \u001b[30m \u001b[30m \u001b[30m \u001b[30m \u001b[30m \u001b[30m \u001b[30m \u001b[30m \u001b[30m \u001b[30m \u001b[30m \u001b[30m \u001b[30m \u001b[30m \u001b[92m%\u001b[31m}\u001b[37m.\u001b[94m@\u001b[33m-\u001b[30m \u001b[30m \u001b[30m \u001b[30m \u001b[30m \u001b[30m \u001b[30m \u001b[30m \u001b[30m \u001b[30m \u001b[30m \u001b[30m \u001b[30m \u001b[30m \u001b[30m \u001b[30m \u001b[30m \u001b[30m \u001b[30m \u001b[30m \u001b[30m \u001b[30m \u001b[30m \u001b[30m \u001b[30m \u001b[30m \u001b[30m \u001b[30m \u001b[30m \u001b[30m \u001b[30m \u001b[30m \u001b[30m \u001b[30m \u001b[30m \u001b[30m \u001b[30m \u001b[30m \u001b[30m \n",
      "\u001b[30m \u001b[30m \u001b[30m \u001b[30m \u001b[30m \u001b[30m \u001b[30m \u001b[30m \u001b[30m \u001b[30m \u001b[30m \u001b[30m \u001b[30m \u001b[30m \u001b[30m \u001b[30m \u001b[30m \u001b[30m \u001b[30m \u001b[30m \u001b[30m \u001b[30m \u001b[30m \u001b[30m \u001b[30m \u001b[30m \u001b[30m \u001b[30m \u001b[30m \u001b[30m \u001b[30m \u001b[30m \u001b[30m \u001b[30m \u001b[30m \u001b[30m \u001b[30m \u001b[32m#\u001b[97m@\u001b[35m&\u001b[37m|\u001b[30m \u001b[30m \u001b[30m \u001b[30m \u001b[30m \u001b[30m \u001b[30m \u001b[30m \u001b[30m \u001b[30m \u001b[30m \u001b[30m \u001b[30m \u001b[30m \u001b[30m \u001b[30m \u001b[30m \u001b[30m \u001b[30m \u001b[30m \u001b[30m \u001b[30m \u001b[30m \u001b[30m \u001b[30m \u001b[30m \u001b[30m \u001b[30m \u001b[30m \u001b[30m \u001b[30m \u001b[30m \u001b[30m \u001b[30m \u001b[30m \u001b[30m \u001b[30m \u001b[30m \u001b[30m \n",
      "\u001b[30m \u001b[30m \u001b[30m \u001b[30m \u001b[30m \u001b[30m \u001b[30m \u001b[30m \u001b[30m \u001b[30m \u001b[30m \u001b[30m \u001b[30m \u001b[30m \u001b[30m \u001b[30m \u001b[30m \u001b[30m \u001b[30m \u001b[30m \u001b[30m \u001b[30m \u001b[30m \u001b[30m \u001b[30m \u001b[30m \u001b[30m \u001b[30m \u001b[30m \u001b[30m \u001b[30m \u001b[30m \u001b[30m \u001b[30m \u001b[30m \u001b[30m \u001b[31m[\u001b[94m{\u001b[37m.\u001b[33ma\u001b[33m+\u001b[30m \u001b[30m \u001b[30m \u001b[30m \u001b[30m \u001b[30m \u001b[30m \u001b[30m \u001b[30m \u001b[30m \u001b[30m \u001b[30m \u001b[30m \u001b[30m \u001b[30m \u001b[30m \u001b[30m \u001b[30m \u001b[30m \u001b[30m \u001b[30m \u001b[30m \u001b[30m \u001b[30m \u001b[30m \u001b[30m \u001b[30m \u001b[30m \u001b[30m \u001b[30m \u001b[30m \u001b[30m \u001b[30m \u001b[30m \u001b[30m \u001b[30m \u001b[30m \u001b[30m \u001b[30m \n",
      "\u001b[30m \u001b[30m \u001b[30m \u001b[30m \u001b[30m \u001b[30m \u001b[30m \u001b[30m \u001b[30m \u001b[30m \u001b[30m \u001b[30m \u001b[30m \u001b[30m \u001b[30m \u001b[30m \u001b[30m \u001b[30m \u001b[30m \u001b[30m \u001b[30m \u001b[30m \u001b[30m \u001b[30m \u001b[30m \u001b[30m \u001b[30m \u001b[30m \u001b[30m \u001b[30m \u001b[30m \u001b[30m \u001b[30m \u001b[30m \u001b[30m \u001b[30m \u001b[37m`\u001b[36m#\u001b[37m.\u001b[37mD\u001b[37m|\u001b[30m \u001b[30m \u001b[30m \u001b[30m \u001b[30m \u001b[30m \u001b[30m \u001b[30m \u001b[30m \u001b[30m \u001b[30m \u001b[30m \u001b[30m \u001b[30m \u001b[30m \u001b[30m \u001b[30m \u001b[30m \u001b[30m \u001b[30m \u001b[30m \u001b[30m \u001b[30m \u001b[30m \u001b[30m \u001b[30m \u001b[30m \u001b[30m \u001b[30m \u001b[30m \u001b[30m \u001b[30m \u001b[30m \u001b[30m \u001b[30m \u001b[30m \u001b[30m \u001b[30m \u001b[30m \n",
      "\u001b[30m \u001b[30m \u001b[30m \u001b[30m \u001b[30m \u001b[30m \u001b[30m \u001b[30m \u001b[30m \u001b[30m \u001b[30m \u001b[30m \u001b[30m \u001b[30m \u001b[30m \u001b[30m \u001b[30m \u001b[30m \u001b[30m \u001b[30m \u001b[30m \u001b[30m \u001b[30m \u001b[30m \u001b[30m \u001b[30m \u001b[30m \u001b[30m \u001b[30m \u001b[30m \u001b[30m \u001b[30m \u001b[30m \u001b[30m \u001b[30m \u001b[30m \u001b[30m \u001b[30m \u001b[30m \u001b[30m \u001b[30m \u001b[30m \u001b[30m \u001b[30m \u001b[30m \u001b[30m \u001b[30m \u001b[30m \u001b[30m \u001b[30m \u001b[30m \u001b[30m \u001b[30m \u001b[30m \u001b[30m \u001b[30m \u001b[30m \u001b[30m \u001b[30m \u001b[30m \u001b[30m \u001b[30m \u001b[30m \u001b[30m \u001b[30m \u001b[30m \u001b[30m \u001b[30m \u001b[30m \u001b[30m \u001b[30m \u001b[30m \u001b[30m \u001b[30m \u001b[30m \u001b[30m \u001b[30m \u001b[30m \u001b[30m \u001b[30m \n",
      "\u001b[30m \u001b[30m \u001b[30m \u001b[30m \u001b[30m \u001b[30m \u001b[30m \u001b[30m \u001b[30m \u001b[30m \u001b[30m \u001b[30m \u001b[30m \u001b[30m \u001b[30m \u001b[30m \u001b[30m \u001b[30m \u001b[30m \u001b[30m \u001b[30m \u001b[30m \u001b[30m \u001b[30m \u001b[30m \u001b[30m \u001b[30m \u001b[30m \u001b[30m \u001b[30m \u001b[30m \u001b[30m \u001b[30m \u001b[30m \u001b[30m \u001b[30m \u001b[30m \u001b[30m \u001b[30m \u001b[30m \u001b[30m \u001b[30m \u001b[30m \u001b[30m \u001b[30m \u001b[30m \u001b[30m \u001b[30m \u001b[30m \u001b[30m \u001b[30m \u001b[30m \u001b[30m \u001b[30m \u001b[30m \u001b[30m \u001b[30m \u001b[30m \u001b[30m \u001b[30m \u001b[30m \u001b[30m \u001b[30m \u001b[30m \u001b[30m \u001b[30m \u001b[30m \u001b[30m \u001b[30m \u001b[30m \u001b[30m \u001b[30m \u001b[30m \u001b[30m \u001b[30m \u001b[30m \u001b[30m \u001b[30m \u001b[30m \u001b[30m \n",
      "\u001b[30m \u001b[30m \u001b[30m \u001b[30m \u001b[30m \u001b[30m \u001b[30m \u001b[30m \u001b[30m \u001b[30m \u001b[30m \u001b[30m \u001b[30m \u001b[30m \u001b[30m \u001b[30m \u001b[30m \u001b[30m \u001b[30m \u001b[30m \u001b[30m \u001b[30m \u001b[30m \u001b[30m \u001b[30m \u001b[30m \u001b[30m \u001b[30m \u001b[30m \u001b[30m \u001b[30m \u001b[30m \u001b[30m \u001b[30m \u001b[30m \u001b[30m \u001b[30m \u001b[30m \u001b[30m \u001b[30m \u001b[30m \u001b[30m \u001b[30m \u001b[30m \u001b[30m \u001b[30m \u001b[30m \u001b[30m \u001b[30m \u001b[30m \u001b[30m \u001b[30m \u001b[30m \u001b[30m \u001b[30m \u001b[30m \u001b[30m \u001b[30m \u001b[30m \u001b[30m \u001b[30m \u001b[30m \u001b[30m \u001b[30m \u001b[30m \u001b[30m \u001b[30m \u001b[30m \u001b[30m \u001b[30m \u001b[30m \u001b[30m \u001b[30m \u001b[30m \u001b[30m \u001b[30m \u001b[30m \u001b[30m \u001b[30m \u001b[30m \n",
      "\u001b[30m \u001b[30m \u001b[30m \u001b[30m \u001b[30m \u001b[30m \u001b[30m \u001b[30m \u001b[30m \u001b[30m \u001b[30m \u001b[30m \u001b[30m \u001b[30m \u001b[30m \u001b[30m \u001b[30m \u001b[30m \u001b[30m \u001b[30m \u001b[30m \u001b[30m \u001b[30m \u001b[30m \u001b[30m \u001b[30m \u001b[30m \u001b[30m \u001b[30m \u001b[30m \u001b[30m \u001b[30m \u001b[30m \u001b[30m \u001b[30m \u001b[30m \u001b[30m \u001b[30m \u001b[30m \u001b[30m \u001b[30m \u001b[30m \u001b[30m \u001b[30m \u001b[30m \u001b[30m \u001b[30m \u001b[30m \u001b[30m \u001b[30m \u001b[30m \u001b[30m \u001b[30m \u001b[30m \u001b[30m \u001b[30m \u001b[30m \u001b[30m \u001b[30m \u001b[30m \u001b[30m \u001b[30m \u001b[30m \u001b[30m \u001b[30m \u001b[30m \u001b[30m \u001b[30m \u001b[30m \u001b[30m \u001b[30m \u001b[30m \u001b[30m \u001b[30m \u001b[30m \u001b[30m \u001b[30m \u001b[30m \u001b[30m \u001b[30m \n",
      "\u001b[30m \u001b[30m \u001b[30m \u001b[30m \u001b[30m \u001b[30m \u001b[30m \u001b[30m \u001b[30m \u001b[30m \u001b[30m \u001b[30m \u001b[30m \u001b[30m \u001b[30m \u001b[30m \u001b[30m \u001b[30m \u001b[30m \u001b[30m \u001b[30m \u001b[30m \u001b[30m \u001b[30m \u001b[30m \u001b[30m \u001b[30m \u001b[30m \u001b[30m \u001b[30m \u001b[30m \u001b[30m \u001b[30m \u001b[30m \u001b[30m \u001b[30m \u001b[30m \u001b[30m \u001b[30m \u001b[30m \u001b[30m \u001b[30m \u001b[30m \u001b[30m \u001b[30m \u001b[30m \u001b[30m \u001b[30m \u001b[30m \u001b[30m \u001b[30m \u001b[30m \u001b[30m \u001b[30m \u001b[30m \u001b[30m \u001b[30m \u001b[30m \u001b[30m \u001b[30m \u001b[30m \u001b[30m \u001b[30m \u001b[30m \u001b[30m \u001b[30m \u001b[30m \u001b[30m \u001b[30m \u001b[30m \u001b[30m \u001b[30m \u001b[30m \u001b[30m \u001b[30m \u001b[30m \u001b[30m \u001b[30m \u001b[30m \u001b[30m \n",
      "\u001b[30m \u001b[30m \u001b[30m \u001b[30m \u001b[30m \u001b[30m \u001b[30m \u001b[30m \u001b[30m \u001b[30m \u001b[30m \u001b[30m \u001b[30m \u001b[30m \u001b[30m \u001b[30m \u001b[30m \u001b[30m \u001b[30m \u001b[30m \u001b[30m \u001b[30m \u001b[30m \u001b[30m \u001b[30m \u001b[30m \u001b[30m \u001b[30m \u001b[30m \u001b[30m \u001b[30m \u001b[30m \u001b[30m \u001b[30m \u001b[30m \u001b[30m \u001b[30m \u001b[30m \u001b[30m \u001b[30m \u001b[30m \u001b[30m \u001b[30m \u001b[30m \u001b[30m \u001b[30m \u001b[30m \u001b[30m \u001b[30m \u001b[30m \u001b[30m \u001b[30m \u001b[30m \u001b[30m \u001b[30m \u001b[30m \u001b[30m \u001b[30m \u001b[30m \u001b[30m \u001b[30m \u001b[30m \u001b[30m \u001b[30m \u001b[30m \u001b[30m \u001b[30m \u001b[30m \u001b[30m \u001b[30m \u001b[30m \u001b[30m \u001b[30m \u001b[30m \u001b[30m \u001b[30m \u001b[30m \u001b[30m \u001b[30m \u001b[30m \n",
      "\u001b[30m \u001b[30m \u001b[30m \u001b[30m \u001b[30m \u001b[30m \u001b[30m \u001b[30m \u001b[30m \u001b[30m \u001b[30m \u001b[30m \u001b[30m \u001b[30m \u001b[30m \u001b[30m \u001b[30m \u001b[30m \u001b[30m \u001b[30m \u001b[30m \u001b[30m \u001b[30m \u001b[30m \u001b[30m \u001b[30m \u001b[30m \u001b[30m \u001b[30m \u001b[30m \u001b[30m \u001b[30m \u001b[30m \u001b[30m \u001b[30m \u001b[30m \u001b[30m \u001b[30m \u001b[30m \u001b[30m \u001b[30m \u001b[30m \u001b[30m \u001b[30m \u001b[30m \u001b[30m \u001b[30m \u001b[30m \u001b[30m \u001b[30m \u001b[30m \u001b[30m \u001b[30m \u001b[30m \u001b[30m \u001b[30m \u001b[30m \u001b[30m \u001b[30m \u001b[30m \u001b[30m \u001b[30m \u001b[30m \u001b[30m \u001b[30m \u001b[30m \u001b[30m \u001b[30m \u001b[30m \u001b[30m \u001b[30m \u001b[30m \u001b[30m \u001b[30m \u001b[30m \u001b[30m \u001b[30m \u001b[30m \u001b[30m \u001b[30m \n",
      "\u001b[37mA\u001b[37mg\u001b[37me\u001b[37mn\u001b[37mt\u001b[30m \u001b[37mt\u001b[37mh\u001b[37me\u001b[30m \u001b[37mT\u001b[37mr\u001b[37mo\u001b[37mg\u001b[37ml\u001b[37mo\u001b[37md\u001b[37my\u001b[37mt\u001b[37me\u001b[30m \u001b[30m \u001b[30m \u001b[30m \u001b[30m \u001b[30m \u001b[30m \u001b[30m \u001b[30m \u001b[30m \u001b[30m \u001b[37mS\u001b[37mt\u001b[37m:\u001b[37m1\u001b[37m8\u001b[37m/\u001b[37m0\u001b[37m3\u001b[30m \u001b[37mD\u001b[37mx\u001b[37m:\u001b[37m1\u001b[37m6\u001b[30m \u001b[37mC\u001b[37mo\u001b[37m:\u001b[37m1\u001b[37m4\u001b[30m \u001b[37mI\u001b[37mn\u001b[37m:\u001b[37m8\u001b[30m \u001b[37mW\u001b[37mi\u001b[37m:\u001b[37m9\u001b[30m \u001b[37mC\u001b[37mh\u001b[37m:\u001b[37m7\u001b[30m \u001b[37mN\u001b[37me\u001b[37mu\u001b[37mt\u001b[37mr\u001b[37ma\u001b[37ml\u001b[30m \u001b[30m \u001b[30m \u001b[30m \u001b[30m \u001b[30m \n",
      "\u001b[37mD\u001b[37ml\u001b[37mv\u001b[37ml\u001b[37m:\u001b[37m1\u001b[30m \u001b[37m$\u001b[37m:\u001b[37m0\u001b[30m \u001b[37mH\u001b[37mP\u001b[37m:\u001b[37m1\u001b[37m6\u001b[37m(\u001b[37m1\u001b[37m6\u001b[37m)\u001b[30m \u001b[37mP\u001b[37mw\u001b[37m:\u001b[37m2\u001b[37m(\u001b[37m2\u001b[37m)\u001b[30m \u001b[37mA\u001b[37mC\u001b[37m:\u001b[37m8\u001b[30m \u001b[37mX\u001b[37mp\u001b[37m:\u001b[37m1\u001b[30m \u001b[30m \u001b[30m \u001b[30m \u001b[30m \u001b[30m \u001b[30m \u001b[30m \u001b[30m \u001b[30m \u001b[30m \u001b[30m \u001b[30m \u001b[30m \u001b[30m \u001b[30m \u001b[30m \u001b[30m \u001b[30m \u001b[30m \u001b[30m \u001b[30m \u001b[30m \u001b[30m \u001b[30m \u001b[30m \u001b[30m \u001b[30m \u001b[30m \u001b[30m \u001b[30m \u001b[30m \u001b[30m \u001b[30m \u001b[30m \u001b[30m \u001b[30m \u001b[30m \u001b[30m \u001b[30m \u001b[30m \u001b[30m \n",
      "\u001b[37m\n"
     ]
    }
   ],
   "source": [
    "env = MiniHackGUITest(savedir=None,archivefile=None)\n",
    "obs = env.reset()\n",
    "\n",
    "# Glyphs\n",
    "glyphs = obs[\"glyphs_crop\"]\n",
    "\n",
    "# Textual descriptions\n",
    "screen_description = obs[\"screen_descriptions_crop\"]\n",
    "\n",
    "env.render(mode=\"human\")"
   ]
  },
  {
   "cell_type": "code",
   "execution_count": 41,
   "metadata": {},
   "outputs": [
    {
     "name": "stdout",
     "output_type": "stream",
     "text": [
      "[[2158 2400 2378    1 2360]\n",
      " [2160 2393 2378  270 2372]\n",
      " [   0 2377  329  310 2360]\n",
      " [2028 2390 2378    0 2374]\n",
      " [2353 2376 2378  146 2360]]\n"
     ]
    },
    {
     "data": {
      "image/png": "[encoded data removed]",
      "text/plain": [
       "<PIL.Image.Image image mode=RGB size=16x16 at 0x7F9678C14910>"
      ]
     },
     "metadata": {},
     "output_type": "display_data"
    },
    {
     "name": "stdout",
     "output_type": "stream",
     "text": [
      "\u0000\u0000an apple\u0000\u0000\u0000\u0000\u0000\u0000\u0000\u0000\u0000\u0000\u0000\u0000\u0000\u0000\u0000\u0000\u0000\u0000\u0000\u0000\u0000\u0000\u0000\u0000\u0000\u0000\u0000\u0000\u0000\u0000\u0000\u0000\u0000\u0000\u0000\u0000\u0000\u0000\u0000\u0000\u0000\u0000\u0000\u0000\u0000\u0000\u0000\u0000\u0000\u0000\u0000\u0000\u0000\u0000\u0000\u0000\u0000\u0000\u0000\u0000\u0000\u0000\u0000\u0000\u0000\u0000\u0000\u0000\u0000\u0000\u0000\u0000\u0000\u0000 (2158) \n",
      "----------------\n"
     ]
    },
    {
     "data": {
      "image/png": "[encoded data removed]",
      "text/plain": [
       "<PIL.Image.Image image mode=RGB size=16x16 at 0x7F9678C141F0>"
      ]
     },
     "metadata": {},
     "output_type": "display_data"
    },
    {
     "name": "stdout",
     "output_type": "stream",
     "text": [
      "\u0000\u0000a pear\u0000\u0000\u0000\u0000\u0000\u0000\u0000\u0000\u0000\u0000\u0000\u0000\u0000\u0000\u0000\u0000\u0000\u0000\u0000\u0000\u0000\u0000\u0000\u0000\u0000\u0000\u0000\u0000\u0000\u0000\u0000\u0000\u0000\u0000\u0000\u0000\u0000\u0000\u0000\u0000\u0000\u0000\u0000\u0000\u0000\u0000\u0000\u0000\u0000\u0000\u0000\u0000\u0000\u0000\u0000\u0000\u0000\u0000\u0000\u0000\u0000\u0000\u0000\u0000\u0000\u0000\u0000\u0000\u0000\u0000\u0000\u0000\u0000\u0000\u0000\u0000 (2160) \n",
      "----------------\n"
     ]
    },
    {
     "data": {
      "image/png": "[encoded data removed]",
      "text/plain": [
       "<PIL.Image.Image image mode=RGB size=16x16 at 0x7F9678C141F0>"
      ]
     },
     "metadata": {},
     "output_type": "display_data"
    },
    {
     "name": "stdout",
     "output_type": "stream",
     "text": [
      "\u0000\u0000\u0000\u0000\u0000\u0000\u0000\u0000\u0000\u0000\u0000\u0000\u0000\u0000\u0000\u0000\u0000\u0000\u0000\u0000\u0000\u0000\u0000\u0000\u0000\u0000\u0000\u0000\u0000\u0000\u0000\u0000\u0000\u0000\u0000\u0000\u0000\u0000\u0000\u0000\u0000\u0000\u0000\u0000\u0000\u0000\u0000\u0000\u0000\u0000\u0000\u0000\u0000\u0000\u0000\u0000\u0000\u0000\u0000\u0000\u0000\u0000\u0000\u0000\u0000\u0000\u0000\u0000\u0000\u0000\u0000\u0000\u0000\u0000\u0000\u0000\u0000\u0000\u0000\u0000\u0000\u0000\u0000\u0000 (0) \n",
      "----------------\n"
     ]
    },
    {
     "data": {
      "image/png": "[encoded data removed]",
      "text/plain": [
       "<PIL.Image.Image image mode=RGB size=16x16 at 0x7F9678C140D0>"
      ]
     },
     "metadata": {},
     "output_type": "display_data"
    },
    {
     "name": "stdout",
     "output_type": "stream",
     "text": [
      "\u0000\u0000a robe\u0000\u0000\u0000\u0000\u0000\u0000\u0000\u0000\u0000\u0000\u0000\u0000\u0000\u0000\u0000\u0000\u0000\u0000\u0000\u0000\u0000\u0000\u0000\u0000\u0000\u0000\u0000\u0000\u0000\u0000\u0000\u0000\u0000\u0000\u0000\u0000\u0000\u0000\u0000\u0000\u0000\u0000\u0000\u0000\u0000\u0000\u0000\u0000\u0000\u0000\u0000\u0000\u0000\u0000\u0000\u0000\u0000\u0000\u0000\u0000\u0000\u0000\u0000\u0000\u0000\u0000\u0000\u0000\u0000\u0000\u0000\u0000\u0000\u0000\u0000\u0000 (2028) \n",
      "----------------\n"
     ]
    },
    {
     "data": {
      "image/png": "[encoded data removed]",
      "text/plain": [
       "<PIL.Image.Image image mode=RGB size=16x16 at 0x7F9678C141F0>"
      ]
     },
     "metadata": {},
     "output_type": "display_data"
    },
    {
     "name": "stdout",
     "output_type": "stream",
     "text": [
      "\u0000\u0000a boulder\u0000\u0000\u0000\u0000\u0000\u0000\u0000\u0000\u0000\u0000\u0000\u0000\u0000\u0000\u0000\u0000\u0000\u0000\u0000\u0000\u0000\u0000\u0000\u0000\u0000\u0000\u0000\u0000\u0000\u0000\u0000\u0000\u0000\u0000\u0000\u0000\u0000\u0000\u0000\u0000\u0000\u0000\u0000\u0000\u0000\u0000\u0000\u0000\u0000\u0000\u0000\u0000\u0000\u0000\u0000\u0000\u0000\u0000\u0000\u0000\u0000\u0000\u0000\u0000\u0000\u0000\u0000\u0000\u0000\u0000\u0000\u0000\u0000 (2353) \n",
      "----------------\n"
     ]
    },
    {
     "data": {
      "image/png": "[encoded data removed]",
      "text/plain": [
       "<PIL.Image.Image image mode=RGB size=16x16 at 0x7F9678C140D0>"
      ]
     },
     "metadata": {},
     "output_type": "display_data"
    },
    {
     "name": "stdout",
     "output_type": "stream",
     "text": [
      "\u0000\u0000water\u0000\u0000\u0000\u0000\u0000\u0000\u0000\u0000\u0000\u0000\u0000\u0000\u0000\u0000\u0000\u0000\u0000\u0000\u0000\u0000\u0000\u0000\u0000\u0000\u0000\u0000\u0000\u0000\u0000\u0000\u0000\u0000\u0000\u0000\u0000\u0000\u0000\u0000\u0000\u0000\u0000\u0000\u0000\u0000\u0000\u0000\u0000\u0000\u0000\u0000\u0000\u0000\u0000\u0000\u0000\u0000\u0000\u0000\u0000\u0000\u0000\u0000\u0000\u0000\u0000\u0000\u0000\u0000\u0000\u0000\u0000\u0000\u0000\u0000\u0000\u0000\u0000 (2400) \n",
      "----------------\n"
     ]
    },
    {
     "data": {
      "image/png": "[encoded data removed]",
      "text/plain": [
       "<PIL.Image.Image image mode=RGB size=16x16 at 0x7F9678C141C0>"
      ]
     },
     "metadata": {},
     "output_type": "display_data"
    },
    {
     "name": "stdout",
     "output_type": "stream",
     "text": [
      "\u0000\u0000molten lava\u0000\u0000\u0000\u0000\u0000\u0000\u0000\u0000\u0000\u0000\u0000\u0000\u0000\u0000\u0000\u0000\u0000\u0000\u0000\u0000\u0000\u0000\u0000\u0000\u0000\u0000\u0000\u0000\u0000\u0000\u0000\u0000\u0000\u0000\u0000\u0000\u0000\u0000\u0000\u0000\u0000\u0000\u0000\u0000\u0000\u0000\u0000\u0000\u0000\u0000\u0000\u0000\u0000\u0000\u0000\u0000\u0000\u0000\u0000\u0000\u0000\u0000\u0000\u0000\u0000\u0000\u0000\u0000\u0000\u0000\u0000 (2393) \n",
      "----------------\n"
     ]
    },
    {
     "data": {
      "image/png": "[encoded data removed]",
      "text/plain": [
       "<PIL.Image.Image image mode=RGB size=16x16 at 0x7F9648186F70>"
      ]
     },
     "metadata": {},
     "output_type": "display_data"
    },
    {
     "name": "stdout",
     "output_type": "stream",
     "text": [
      "\u0000\u0000tree\u0000\u0000\u0000\u0000\u0000\u0000\u0000\u0000\u0000\u0000\u0000\u0000\u0000\u0000\u0000\u0000\u0000\u0000\u0000\u0000\u0000\u0000\u0000\u0000\u0000\u0000\u0000\u0000\u0000\u0000\u0000\u0000\u0000\u0000\u0000\u0000\u0000\u0000\u0000\u0000\u0000\u0000\u0000\u0000\u0000\u0000\u0000\u0000\u0000\u0000\u0000\u0000\u0000\u0000\u0000\u0000\u0000\u0000\u0000\u0000\u0000\u0000\u0000\u0000\u0000\u0000\u0000\u0000\u0000\u0000\u0000\u0000\u0000\u0000\u0000\u0000\u0000\u0000 (2377) \n",
      "----------------\n"
     ]
    },
    {
     "data": {
      "image/png": "[encoded data removed]",
      "text/plain": [
       "<PIL.Image.Image image mode=RGB size=16x16 at 0x7F9678C141C0>"
      ]
     },
     "metadata": {},
     "output_type": "display_data"
    },
    {
     "name": "stdout",
     "output_type": "stream",
     "text": [
      "\u0000\u0000fountain\u0000\u0000\u0000\u0000\u0000\u0000\u0000\u0000\u0000\u0000\u0000\u0000\u0000\u0000\u0000\u0000\u0000\u0000\u0000\u0000\u0000\u0000\u0000\u0000\u0000\u0000\u0000\u0000\u0000\u0000\u0000\u0000\u0000\u0000\u0000\u0000\u0000\u0000\u0000\u0000\u0000\u0000\u0000\u0000\u0000\u0000\u0000\u0000\u0000\u0000\u0000\u0000\u0000\u0000\u0000\u0000\u0000\u0000\u0000\u0000\u0000\u0000\u0000\u0000\u0000\u0000\u0000\u0000\u0000\u0000\u0000\u0000\u0000\u0000 (2390) \n",
      "----------------\n"
     ]
    },
    {
     "data": {
      "image/png": "[encoded data removed]",
      "text/plain": [
       "<PIL.Image.Image image mode=RGB size=16x16 at 0x7F9678C141C0>"
      ]
     },
     "metadata": {},
     "output_type": "display_data"
    },
    {
     "name": "stdout",
     "output_type": "stream",
     "text": [
      "\u0000\u0000iron bars\u0000\u0000\u0000\u0000\u0000\u0000\u0000\u0000\u0000\u0000\u0000\u0000\u0000\u0000\u0000\u0000\u0000\u0000\u0000\u0000\u0000\u0000\u0000\u0000\u0000\u0000\u0000\u0000\u0000\u0000\u0000\u0000\u0000\u0000\u0000\u0000\u0000\u0000\u0000\u0000\u0000\u0000\u0000\u0000\u0000\u0000\u0000\u0000\u0000\u0000\u0000\u0000\u0000\u0000\u0000\u0000\u0000\u0000\u0000\u0000\u0000\u0000\u0000\u0000\u0000\u0000\u0000\u0000\u0000\u0000\u0000\u0000\u0000 (2376) \n",
      "----------------\n"
     ]
    },
    {
     "data": {
      "image/png": "[encoded data removed]",
      "text/plain": [
       "<PIL.Image.Image image mode=RGB size=16x16 at 0x7F9678C141C0>"
      ]
     },
     "metadata": {},
     "output_type": "display_data"
    },
    {
     "name": "stdout",
     "output_type": "stream",
     "text": [
      "\u0000\u0000floor of a room\u0000\u0000\u0000\u0000\u0000\u0000\u0000\u0000\u0000\u0000\u0000\u0000\u0000\u0000\u0000\u0000\u0000\u0000\u0000\u0000\u0000\u0000\u0000\u0000\u0000\u0000\u0000\u0000\u0000\u0000\u0000\u0000\u0000\u0000\u0000\u0000\u0000\u0000\u0000\u0000\u0000\u0000\u0000\u0000\u0000\u0000\u0000\u0000\u0000\u0000\u0000\u0000\u0000\u0000\u0000\u0000\u0000\u0000\u0000\u0000\u0000\u0000\u0000\u0000\u0000\u0000\u0000 (2378) \n",
      "----------------\n"
     ]
    },
    {
     "data": {
      "image/png": "[encoded data removed]",
      "text/plain": [
       "<PIL.Image.Image image mode=RGB size=16x16 at 0x7F9678C141C0>"
      ]
     },
     "metadata": {},
     "output_type": "display_data"
    },
    {
     "name": "stdout",
     "output_type": "stream",
     "text": [
      "\u0000\u0000floor of a room\u0000\u0000\u0000\u0000\u0000\u0000\u0000\u0000\u0000\u0000\u0000\u0000\u0000\u0000\u0000\u0000\u0000\u0000\u0000\u0000\u0000\u0000\u0000\u0000\u0000\u0000\u0000\u0000\u0000\u0000\u0000\u0000\u0000\u0000\u0000\u0000\u0000\u0000\u0000\u0000\u0000\u0000\u0000\u0000\u0000\u0000\u0000\u0000\u0000\u0000\u0000\u0000\u0000\u0000\u0000\u0000\u0000\u0000\u0000\u0000\u0000\u0000\u0000\u0000\u0000\u0000\u0000 (2378) \n",
      "----------------\n"
     ]
    },
    {
     "data": {
      "image/png": "[encoded data removed]",
      "text/plain": [
       "<PIL.Image.Image image mode=RGB size=16x16 at 0x7F9678C141C0>"
      ]
     },
     "metadata": {},
     "output_type": "display_data"
    },
    {
     "name": "stdout",
     "output_type": "stream",
     "text": [
      "\u0000\u0000human caveman called Agent\u0000\u0000\u0000\u0000\u0000\u0000\u0000\u0000\u0000\u0000\u0000\u0000\u0000\u0000\u0000\u0000\u0000\u0000\u0000\u0000\u0000\u0000\u0000\u0000\u0000\u0000\u0000\u0000\u0000\u0000\u0000\u0000\u0000\u0000\u0000\u0000\u0000\u0000\u0000\u0000\u0000\u0000\u0000\u0000\u0000\u0000\u0000\u0000\u0000\u0000\u0000\u0000\u0000\u0000\u0000\u0000 (329) \n",
      "----------------\n"
     ]
    },
    {
     "data": {
      "image/png": "[encoded data removed]",
      "text/plain": [
       "<PIL.Image.Image image mode=RGB size=16x16 at 0x7F9678C141C0>"
      ]
     },
     "metadata": {},
     "output_type": "display_data"
    },
    {
     "name": "stdout",
     "output_type": "stream",
     "text": [
      "\u0000\u0000floor of a room\u0000\u0000\u0000\u0000\u0000\u0000\u0000\u0000\u0000\u0000\u0000\u0000\u0000\u0000\u0000\u0000\u0000\u0000\u0000\u0000\u0000\u0000\u0000\u0000\u0000\u0000\u0000\u0000\u0000\u0000\u0000\u0000\u0000\u0000\u0000\u0000\u0000\u0000\u0000\u0000\u0000\u0000\u0000\u0000\u0000\u0000\u0000\u0000\u0000\u0000\u0000\u0000\u0000\u0000\u0000\u0000\u0000\u0000\u0000\u0000\u0000\u0000\u0000\u0000\u0000\u0000\u0000 (2378) \n",
      "----------------\n"
     ]
    },
    {
     "data": {
      "image/png": "[encoded data removed]",
      "text/plain": [
       "<PIL.Image.Image image mode=RGB size=16x16 at 0x7F9678C141C0>"
      ]
     },
     "metadata": {},
     "output_type": "display_data"
    },
    {
     "name": "stdout",
     "output_type": "stream",
     "text": [
      "\u0000\u0000floor of a room\u0000\u0000\u0000\u0000\u0000\u0000\u0000\u0000\u0000\u0000\u0000\u0000\u0000\u0000\u0000\u0000\u0000\u0000\u0000\u0000\u0000\u0000\u0000\u0000\u0000\u0000\u0000\u0000\u0000\u0000\u0000\u0000\u0000\u0000\u0000\u0000\u0000\u0000\u0000\u0000\u0000\u0000\u0000\u0000\u0000\u0000\u0000\u0000\u0000\u0000\u0000\u0000\u0000\u0000\u0000\u0000\u0000\u0000\u0000\u0000\u0000\u0000\u0000\u0000\u0000\u0000\u0000 (2378) \n",
      "----------------\n"
     ]
    },
    {
     "data": {
      "image/png": "[encoded data removed]",
      "text/plain": [
       "<PIL.Image.Image image mode=RGB size=16x16 at 0x7F9678C141C0>"
      ]
     },
     "metadata": {},
     "output_type": "display_data"
    },
    {
     "name": "stdout",
     "output_type": "stream",
     "text": [
      "\u0000\u0000killer bee\u0000\u0000\u0000\u0000\u0000\u0000\u0000\u0000\u0000\u0000\u0000\u0000\u0000\u0000\u0000\u0000\u0000\u0000\u0000\u0000\u0000\u0000\u0000\u0000\u0000\u0000\u0000\u0000\u0000\u0000\u0000\u0000\u0000\u0000\u0000\u0000\u0000\u0000\u0000\u0000\u0000\u0000\u0000\u0000\u0000\u0000\u0000\u0000\u0000\u0000\u0000\u0000\u0000\u0000\u0000\u0000\u0000\u0000\u0000\u0000\u0000\u0000\u0000\u0000\u0000\u0000\u0000\u0000\u0000\u0000\u0000\u0000 (1) \n",
      "----------------\n"
     ]
    },
    {
     "data": {
      "image/png": "[encoded data removed]",
      "text/plain": [
       "<PIL.Image.Image image mode=RGB size=16x16 at 0x7F9678C141C0>"
      ]
     },
     "metadata": {},
     "output_type": "display_data"
    },
    {
     "name": "stdout",
     "output_type": "stream",
     "text": [
      "\u0000\u0000peaceful Oracle\u0000\u0000\u0000\u0000\u0000\u0000\u0000\u0000\u0000\u0000\u0000\u0000\u0000\u0000\u0000\u0000\u0000\u0000\u0000\u0000\u0000\u0000\u0000\u0000\u0000\u0000\u0000\u0000\u0000\u0000\u0000\u0000\u0000\u0000\u0000\u0000\u0000\u0000\u0000\u0000\u0000\u0000\u0000\u0000\u0000\u0000\u0000\u0000\u0000\u0000\u0000\u0000\u0000\u0000\u0000\u0000\u0000\u0000\u0000\u0000\u0000\u0000\u0000\u0000\u0000\u0000\u0000 (270) \n",
      "----------------\n"
     ]
    },
    {
     "data": {
      "image/png": "[encoded data removed]",
      "text/plain": [
       "<PIL.Image.Image image mode=RGB size=16x16 at 0x7F9678C141C0>"
      ]
     },
     "metadata": {},
     "output_type": "display_data"
    },
    {
     "name": "stdout",
     "output_type": "stream",
     "text": [
      "\u0000\u0000Famine\u0000\u0000\u0000\u0000\u0000\u0000\u0000\u0000\u0000\u0000\u0000\u0000\u0000\u0000\u0000\u0000\u0000\u0000\u0000\u0000\u0000\u0000\u0000\u0000\u0000\u0000\u0000\u0000\u0000\u0000\u0000\u0000\u0000\u0000\u0000\u0000\u0000\u0000\u0000\u0000\u0000\u0000\u0000\u0000\u0000\u0000\u0000\u0000\u0000\u0000\u0000\u0000\u0000\u0000\u0000\u0000\u0000\u0000\u0000\u0000\u0000\u0000\u0000\u0000\u0000\u0000\u0000\u0000\u0000\u0000\u0000\u0000\u0000\u0000\u0000\u0000 (310) \n",
      "----------------\n"
     ]
    },
    {
     "data": {
      "image/png": "[encoded data removed]",
      "text/plain": [
       "<PIL.Image.Image image mode=RGB size=16x16 at 0x7F9678C142B0>"
      ]
     },
     "metadata": {},
     "output_type": "display_data"
    },
    {
     "name": "stdout",
     "output_type": "stream",
     "text": [
      "\u0000\u0000giant ant\u0000\u0000\u0000\u0000\u0000\u0000\u0000\u0000\u0000\u0000\u0000\u0000\u0000\u0000\u0000\u0000\u0000\u0000\u0000\u0000\u0000\u0000\u0000\u0000\u0000\u0000\u0000\u0000\u0000\u0000\u0000\u0000\u0000\u0000\u0000\u0000\u0000\u0000\u0000\u0000\u0000\u0000\u0000\u0000\u0000\u0000\u0000\u0000\u0000\u0000\u0000\u0000\u0000\u0000\u0000\u0000\u0000\u0000\u0000\u0000\u0000\u0000\u0000\u0000\u0000\u0000\u0000\u0000\u0000\u0000\u0000\u0000\u0000 (0) \n",
      "----------------\n"
     ]
    },
    {
     "data": {
      "image/png": "[encoded data removed]",
      "text/plain": [
       "<PIL.Image.Image image mode=RGB size=16x16 at 0x7F9678C142B0>"
      ]
     },
     "metadata": {},
     "output_type": "display_data"
    },
    {
     "name": "stdout",
     "output_type": "stream",
     "text": [
      "\u0000\u0000black dragon\u0000\u0000\u0000\u0000\u0000\u0000\u0000\u0000\u0000\u0000\u0000\u0000\u0000\u0000\u0000\u0000\u0000\u0000\u0000\u0000\u0000\u0000\u0000\u0000\u0000\u0000\u0000\u0000\u0000\u0000\u0000\u0000\u0000\u0000\u0000\u0000\u0000\u0000\u0000\u0000\u0000\u0000\u0000\u0000\u0000\u0000\u0000\u0000\u0000\u0000\u0000\u0000\u0000\u0000\u0000\u0000\u0000\u0000\u0000\u0000\u0000\u0000\u0000\u0000\u0000\u0000\u0000\u0000\u0000\u0000 (146) \n",
      "----------------\n"
     ]
    },
    {
     "data": {
      "image/png": "[encoded data removed]",
      "text/plain": [
       "<PIL.Image.Image image mode=RGB size=16x16 at 0x7F9678C142B0>"
      ]
     },
     "metadata": {},
     "output_type": "display_data"
    },
    {
     "name": "stdout",
     "output_type": "stream",
     "text": [
      "\u0000\u0000wall\u0000\u0000\u0000\u0000\u0000\u0000\u0000\u0000\u0000\u0000\u0000\u0000\u0000\u0000\u0000\u0000\u0000\u0000\u0000\u0000\u0000\u0000\u0000\u0000\u0000\u0000\u0000\u0000\u0000\u0000\u0000\u0000\u0000\u0000\u0000\u0000\u0000\u0000\u0000\u0000\u0000\u0000\u0000\u0000\u0000\u0000\u0000\u0000\u0000\u0000\u0000\u0000\u0000\u0000\u0000\u0000\u0000\u0000\u0000\u0000\u0000\u0000\u0000\u0000\u0000\u0000\u0000\u0000\u0000\u0000\u0000\u0000\u0000\u0000\u0000\u0000\u0000\u0000 (2360) \n",
      "----------------\n"
     ]
    },
    {
     "data": {
      "image/png": "[encoded data removed]",
      "text/plain": [
       "<PIL.Image.Image image mode=RGB size=16x16 at 0x7F9678C142B0>"
      ]
     },
     "metadata": {},
     "output_type": "display_data"
    },
    {
     "name": "stdout",
     "output_type": "stream",
     "text": [
      "\u0000\u0000open door\u0000\u0000\u0000\u0000\u0000\u0000\u0000\u0000\u0000\u0000\u0000\u0000\u0000\u0000\u0000\u0000\u0000\u0000\u0000\u0000\u0000\u0000\u0000\u0000\u0000\u0000\u0000\u0000\u0000\u0000\u0000\u0000\u0000\u0000\u0000\u0000\u0000\u0000\u0000\u0000\u0000\u0000\u0000\u0000\u0000\u0000\u0000\u0000\u0000\u0000\u0000\u0000\u0000\u0000\u0000\u0000\u0000\u0000\u0000\u0000\u0000\u0000\u0000\u0000\u0000\u0000\u0000\u0000\u0000\u0000\u0000\u0000\u0000 (2372) \n",
      "----------------\n"
     ]
    },
    {
     "data": {
      "image/png": "[encoded data removed]",
      "text/plain": [
       "<PIL.Image.Image image mode=RGB size=16x16 at 0x7F9678C142B0>"
      ]
     },
     "metadata": {},
     "output_type": "display_data"
    },
    {
     "name": "stdout",
     "output_type": "stream",
     "text": [
      "\u0000\u0000wall\u0000\u0000\u0000\u0000\u0000\u0000\u0000\u0000\u0000\u0000\u0000\u0000\u0000\u0000\u0000\u0000\u0000\u0000\u0000\u0000\u0000\u0000\u0000\u0000\u0000\u0000\u0000\u0000\u0000\u0000\u0000\u0000\u0000\u0000\u0000\u0000\u0000\u0000\u0000\u0000\u0000\u0000\u0000\u0000\u0000\u0000\u0000\u0000\u0000\u0000\u0000\u0000\u0000\u0000\u0000\u0000\u0000\u0000\u0000\u0000\u0000\u0000\u0000\u0000\u0000\u0000\u0000\u0000\u0000\u0000\u0000\u0000\u0000\u0000\u0000\u0000\u0000\u0000 (2360) \n",
      "----------------\n"
     ]
    },
    {
     "data": {
      "image/png": "[encoded data removed]",
      "text/plain": [
       "<PIL.Image.Image image mode=RGB size=16x16 at 0x7F9678C142B0>"
      ]
     },
     "metadata": {},
     "output_type": "display_data"
    },
    {
     "name": "stdout",
     "output_type": "stream",
     "text": [
      "\u0000\u0000closed door\u0000\u0000\u0000\u0000\u0000\u0000\u0000\u0000\u0000\u0000\u0000\u0000\u0000\u0000\u0000\u0000\u0000\u0000\u0000\u0000\u0000\u0000\u0000\u0000\u0000\u0000\u0000\u0000\u0000\u0000\u0000\u0000\u0000\u0000\u0000\u0000\u0000\u0000\u0000\u0000\u0000\u0000\u0000\u0000\u0000\u0000\u0000\u0000\u0000\u0000\u0000\u0000\u0000\u0000\u0000\u0000\u0000\u0000\u0000\u0000\u0000\u0000\u0000\u0000\u0000\u0000\u0000\u0000\u0000\u0000\u0000 (2374) \n",
      "----------------\n"
     ]
    },
    {
     "data": {
      "image/png": "[encoded data removed]",
      "text/plain": [
       "<PIL.Image.Image image mode=RGB size=16x16 at 0x7F9678C142B0>"
      ]
     },
     "metadata": {},
     "output_type": "display_data"
    },
    {
     "name": "stdout",
     "output_type": "stream",
     "text": [
      "\u0000\u0000wall\u0000\u0000\u0000\u0000\u0000\u0000\u0000\u0000\u0000\u0000\u0000\u0000\u0000\u0000\u0000\u0000\u0000\u0000\u0000\u0000\u0000\u0000\u0000\u0000\u0000\u0000\u0000\u0000\u0000\u0000\u0000\u0000\u0000\u0000\u0000\u0000\u0000\u0000\u0000\u0000\u0000\u0000\u0000\u0000\u0000\u0000\u0000\u0000\u0000\u0000\u0000\u0000\u0000\u0000\u0000\u0000\u0000\u0000\u0000\u0000\u0000\u0000\u0000\u0000\u0000\u0000\u0000\u0000\u0000\u0000\u0000\u0000\u0000\u0000\u0000\u0000\u0000\u0000 (2360) \n",
      "----------------\n"
     ]
    }
   ],
   "source": [
    "print(glyphs)\n",
    "for i in range(glyphs.shape[0]):\n",
    "    for j in range(glyphs.shape[1]):\n",
    "        glyph = glyphs[j,i]\n",
    "        display(gm.glyph_id_to_rgb(glyph))\n",
    "        name = screen_description[j, i].tobytes().decode(\"utf-8\")\n",
    "        print(name, f\"({glyph})\", \"\\n----------------\")"
   ]
  },
  {
   "cell_type": "code",
   "execution_count": 42,
   "metadata": {
    "scrolled": false
   },
   "outputs": [
    {
     "data": {
      "image/png": "[encoded data removed]",
      "text/plain": [
       "<PIL.Image.Image image mode=RGB size=1264x336 at 0x7F9648186850>"
      ]
     },
     "metadata": {},
     "output_type": "display_data"
    }
   ],
   "source": [
    "display(obs[\"pixel\"])"
   ]
  },
  {
   "cell_type": "code",
   "execution_count": 43,
   "metadata": {},
   "outputs": [
    {
     "data": {
      "image/png": "[encoded data removed]",
      "text/plain": [
       "<PIL.Image.Image image mode=RGB size=80x80 at 0x7F966836AD90>"
      ]
     },
     "metadata": {},
     "output_type": "display_data"
    }
   ],
   "source": [
    "display(obs[\"pixel_crop\"])"
   ]
  },
  {
   "cell_type": "code",
   "execution_count": 36,
   "metadata": {},
   "outputs": [],
   "source": [
    "from nle.minihack.envs.hidenseek import MiniHackHideAndSeek\n",
    "from nle.minihack.envs.mazewalk import *\n",
    "observation_keys = (\n",
    "    \"glyphs_crop\",\n",
    "    \"screen_descriptions_crop\",\n",
    "     \"pixel_crop\",\n",
    "     \"pixel\",\n",
    ")\n",
    "\n",
    "env = MiniHackMazeWalkMaxPremapped(savedir=None,archivefile=None,observation_keys=observation_keys)\n",
    "obs = env.reset()"
   ]
  },
  {
   "cell_type": "code",
   "execution_count": 37,
   "metadata": {},
   "outputs": [
    {
     "data": {
      "image/png": "[encoded data removed]",
      "text/plain": [
       "<PIL.Image.Image image mode=RGB size=80x80 at 0x7F966836AD30>"
      ]
     },
     "metadata": {},
     "output_type": "display_data"
    }
   ],
   "source": [
    "display(obs[\"pixel_crop\"])"
   ]
  },
  {
   "cell_type": "code",
   "execution_count": 38,
   "metadata": {},
   "outputs": [
    {
     "data": {
      "image/png": "[encoded data removed]",
      "text/plain": [
       "<PIL.Image.Image image mode=RGB size=1264x336 at 0x7F964819E160>"
      ]
     },
     "metadata": {},
     "output_type": "display_data"
    }
   ],
   "source": [
    "display(obs[\"pixel\"])"
   ]
  },
  {
   "cell_type": "code",
   "execution_count": null,
   "metadata": {},
   "outputs": [],
   "source": [
    "\n"
   ]
  }
 ],
 "metadata": {
  "kernelspec": {
   "display_name": "Python 3",
   "language": "python",
   "name": "python3"
  },
  "language_info": {
   "codemirror_mode": {
    "name": "ipython",
    "version": 3
   },
   "file_extension": ".py",
   "mimetype": "text/x-python",
   "name": "python",
   "nbconvert_exporter": "python",
   "pygments_lexer": "ipython3",
   "version": "3.8.5"
  }
 },
 "nbformat": 4,
 "nbformat_minor": 4
}
